{
 "cells": [
  {
   "cell_type": "markdown",
   "metadata": {},
   "source": [
    "# scWGS Mutational Signature Analysis"
   ]
  },
  {
   "cell_type": "code",
   "execution_count": null,
   "metadata": {},
   "outputs": [],
   "source": [
    "cat(\"\\nR version :\", paste(R.Version()$major, R.Version()$minor, sep=\".\"), \"\\n\")\n",
    ".libPaths()\n",
    ".libPaths(c(\"/autofs/projects-t1/devel/ashetty/R/x86_64-pc-linux-gnu-library/3.6\",\"/usr/local/packages/r-3.6.0/lib64/R/library\"))\n",
    ".libPaths()"
   ]
  },
  {
   "cell_type": "code",
   "execution_count": null,
   "metadata": {},
   "outputs": [],
   "source": [
    "# Load Packages\n",
    "suppressMessages( library(\"BSgenome\") )\n",
    "suppressMessages( library(\"BSgenome.Mmusculus.UCSC.mm10\") )\n",
    "suppressMessages( library(\"MutationalPatterns\") )\n",
    "suppressMessages( library(\"NMF\") )\n",
    "suppressMessages( library(\"ggplot2\") )\n",
    "suppressMessages( library(\"gridExtra\") )\n",
    "suppressMessages( library(\"RColorBrewer\") )"
   ]
  },
  {
   "cell_type": "code",
   "execution_count": null,
   "metadata": {},
   "outputs": [],
   "source": [
    "# Sample Info\n",
    "sINFO = \"BBRAG_P02.scWGS.sample.info\"\n",
    "oINFO = read.delim(sINFO, sep=\"\\t\", header=T, stringsAsFactor=F)\n",
    "colnames(oINFO) = c(\"Sample.ID\", \"Condition\", \"VCF.File\")\n",
    "rownames(oINFO) = oINFO$Sample.ID\n",
    "print(dim(oINFO))\n",
    "print(head(oINFO))\n",
    "\n",
    "# VCF Files\n",
    "aFiles = oINFO$VCF.File\n",
    "cat(\"\\nNumber of VCF Files :\", length(aFiles), \"\\n\")"
   ]
  },
  {
   "cell_type": "code",
   "execution_count": null,
   "metadata": {},
   "outputs": [],
   "source": [
    "# BSgenome Chromosome Names\n",
    "sREF = BSgenome.Mmusculus.UCSC.mm10\n",
    "aSeqNames = seqnames(sREF)\n",
    "print(aSeqNames)\n",
    "cat(\"\\n\"); print(standardChromosomes(sREF))"
   ]
  },
  {
   "cell_type": "code",
   "execution_count": null,
   "metadata": {},
   "outputs": [],
   "source": [
    "sRDS = \"BBRAG_P02.sWGS.sample.v20200910.mutation_type.RData\"\n",
    "if( file.exists(sRDS) ) {\n",
    "    # Loading R Image\n",
    "    lnames = load(file = sRDS)\n",
    "    print(lnames)\n",
    "    cat(\"\\n\")\n",
    "} else {\n",
    "    # Read VCF as GRanges\n",
    "    aSID = oINFO$Sample.ID\n",
    "    sREF = \"BSgenome.Mmusculus.UCSC.mm10\"\n",
    "    oVCF.gr = read_vcfs_as_granges(aFiles, aSID, sREF)\n",
    "    \n",
    "    # Summary of VCFs as GRanges\n",
    "    print(summary(oVCF.gr))\n",
    "    cat(\"\\n\"); print(seqnames(oVCF.gr))\n",
    "    \n",
    "    # Mutation Type Occurences\n",
    "    oMutTypes = mut_type_occurrences(vcf_list = oVCF.gr, ref_genome = sREF)\n",
    "    print(dim(oMutTypes))\n",
    "    print(head(oMutTypes))\n",
    "    \n",
    "    cat(\"\\n### Save R Image ###\\n\")\n",
    "    sRDS = \"BBRAG_P02.sWGS.sample.v20200910.analysis.RData\"\n",
    "    save.image(file = sRDS)\n",
    "}"
   ]
  },
  {
   "cell_type": "code",
   "execution_count": null,
   "metadata": {},
   "outputs": [],
   "source": [
    "print(dim(oMutTypes))\n",
    "cat(\"\\n\"); print(head(oMutTypes))"
   ]
  },
  {
   "cell_type": "code",
   "execution_count": null,
   "metadata": {},
   "outputs": [],
   "source": [
    "# Sample Info\n",
    "oINFO = read.delim(sINFO, sep=\"\\t\", header=T, stringsAsFactor=F)\n",
    "colnames(oINFO) = c(\"Sample.ID\", \"Condition\", \"VCF.File\")\n",
    "rownames(oINFO) = oINFO$Sample.ID\n",
    "print(dim(oINFO))\n",
    "cat(\"\\n\"); print(head(oINFO))\n",
    "\n",
    "# Conditions\n",
    "aConditions = oINFO$Condition\n",
    "aConditions = factor(aConditions, levels = unique(oINFO$Condition))\n",
    "cat(\"\\n\"); print(table(aConditions))"
   ]
  },
  {
   "cell_type": "code",
   "execution_count": null,
   "metadata": {},
   "outputs": [],
   "source": [
    "plot_spectrum(oMutTypes, by = oINFO$Sample.ID, CT = TRUE, legend = TRUE, colors = brewer.pal(n=7, \"Dark2\"))"
   ]
  },
  {
   "cell_type": "code",
   "execution_count": null,
   "metadata": {},
   "outputs": [],
   "source": [
    "plot_spectrum(oMutTypes, by = aConditions, CT = TRUE, legend = TRUE, colors = brewer.pal(n=7, \"Dark2\"))"
   ]
  },
  {
   "cell_type": "code",
   "execution_count": null,
   "metadata": {},
   "outputs": [],
   "source": [
    "sOutFile = \"BBRAG_P02.sWGS.sample.v20200910.trinucleotide_profile.txt\"\n",
    "if( file.exists(sRDS) ) {\n",
    "    # Loading Mutational Profile\n",
    "    oMutMatrix = read.delim(sOutFile, sep=\"\\t\", header=T, stringsAsFactor=F)\n",
    "    rownames(oMutMatrix) = oMutMatrix$Trinucleotide.Change\n",
    "    oMutMatrix = oMutMatrix[,-1]\n",
    "    print(dim(oMutMatrix))\n",
    "    print(head(oMutMatrix))\n",
    "    cat(\"\\n\")\n",
    "} else {\n",
    "    # 96 Mutational Profile\n",
    "    oMutMatrix = mut_matrix(vcf_list = oVCF.gr, ref_genome = sREF)\n",
    "    print(dim(oMutMatrix))\n",
    "    print(head(oMutMatrix))\n",
    "    \n",
    "    sOutFile = \"BBRAG_P02.sWGS.sample.v20200910.trinucleotide_profile.txt\"\n",
    "    cnames = colnames(oMutMatrix)\n",
    "    oOUT = cbind(rownames(oMutMatrix), oMutMatrix)\n",
    "    colnames(oOUT) = c(\"Trinucleotide.Change\", cnames)\n",
    "    print(dim(oOUT))\n",
    "    write.table(oOUT, file=sOutFile, append=F, quote=F, sep=\"\\t\", eol=\"\\n\", na=\"NA\", row.names=F, col.names=T)\n",
    "}"
   ]
  },
  {
   "cell_type": "code",
   "execution_count": null,
   "metadata": {},
   "outputs": [],
   "source": [
    "plot_96_profile(oMutMatrix, colors = brewer.pal(n=6, \"Dark2\"), ymax = 0.05, condensed = TRUE)"
   ]
  },
  {
   "cell_type": "code",
   "execution_count": null,
   "metadata": {},
   "outputs": [],
   "source": [
    "oMutMatrix = oMutMatrix + 0.0001\n",
    "print(dim(oMutMatrix))\n",
    "print(head(oMutMatrix))"
   ]
  },
  {
   "cell_type": "code",
   "execution_count": null,
   "metadata": {},
   "outputs": [],
   "source": [
    "# COSMIC Mutational Signatures (N = 30)\n",
    "sURL = paste(\"https://cancer.sanger.ac.uk/cancergenome/assets/\", \"signatures_probabilities.txt\", sep = \"\")\n",
    "oCOSMIC.n30 = read.table(sURL, sep = \"\\t\", header = TRUE)\n",
    "print(dim(oCOSMIC.n30))\n",
    "\n",
    "aOrder = match(row.names(oMutMatrix), oCOSMIC.n30$Somatic.Mutation.Type)\n",
    "oRefSig = oCOSMIC.n30[as.vector(aOrder),]\n",
    "row.names(oRefSig) = oRefSig$Somatic.Mutation.Type\n",
    "oRefSig = as.matrix(oRefSig[,4:33])\n",
    "print(dim(oRefSig))\n",
    "cat(\"\\n\"); print(oRefSig[1:6,1:6])"
   ]
  },
  {
   "cell_type": "code",
   "execution_count": null,
   "metadata": {},
   "outputs": [],
   "source": [
    "oRefSig.hclust = cluster_signatures(oRefSig, method = \"average\")\n",
    "oRefSig.order = colnames(oRefSig)[oRefSig.hclust$order]\n",
    "\n",
    "# Sample-level Similarity to COSMIC Mutational Signatures\n",
    "oCosSim = cos_sim_matrix(oMutMatrix, oRefSig)\n",
    "print(dim(oCosSim))\n",
    "cat(\"\\n\"); print(oCosSim[1:6,1:6])"
   ]
  },
  {
   "cell_type": "code",
   "execution_count": null,
   "metadata": {},
   "outputs": [],
   "source": [
    "plot_cosine_heatmap(oCosSim, col_order = oRefSig.order, cluster_rows = TRUE)"
   ]
  },
  {
   "cell_type": "code",
   "execution_count": null,
   "metadata": {},
   "outputs": [],
   "source": [
    "# COSMIC Mutational Signatures contributing to each Sample\n",
    "oFIT = fit_to_signatures(oMutMatrix, oRefSig)\n",
    "print(dim(oFIT$contribution))\n",
    "cat(\"\\n\"); print(head(oFIT$contribution))\n",
    "\n",
    "nSelect = 12\n",
    "bThresh = sort(apply(oFIT$contribution, 1, max), decreasing = TRUE)[(nSelect + 1)]\n",
    "\n",
    "cat(\"\\nMax Contribution Threshold:\", bThresh, \"\\n\")\n",
    "aSelect = which(apply(oFIT$contribution, 1, max) > bThresh)\n",
    "cat(\"\\nNumber of Selected COSMIC Signatures :\", length(aSelect), \"\\n\")\n",
    "cat(\"\\nSelected COSMIC Signatures :\", aSelect, \"\\n\")"
   ]
  },
  {
   "cell_type": "code",
   "execution_count": null,
   "metadata": {},
   "outputs": [],
   "source": [
    "oP1 = plot_contribution(oFIT$contribution[aSelect,], oRefSig[,aSelect], mode = \"relative\", coord_flip = TRUE)\n",
    "oP2 = plot_contribution(oFIT$contribution[aSelect,], oRefSig[,aSelect], mode = \"absolute\", coord_flip = TRUE)\n",
    "grid.arrange(oP1, oP2)"
   ]
  },
  {
   "cell_type": "code",
   "execution_count": null,
   "metadata": {},
   "outputs": [],
   "source": [
    "plot_contribution_heatmap(oFIT$contribution[aSelect,], cluster_samples = TRUE,, method = \"complete\")"
   ]
  },
  {
   "cell_type": "code",
   "execution_count": null,
   "metadata": {},
   "outputs": [],
   "source": []
  }
 ],
 "metadata": {
  "kernelspec": {
   "display_name": "R",
   "language": "R",
   "name": "ir"
  },
  "language_info": {
   "codemirror_mode": "r",
   "file_extension": ".r",
   "mimetype": "text/x-r-source",
   "name": "R",
   "pygments_lexer": "r",
   "version": "3.6.1"
  }
 },
 "nbformat": 4,
 "nbformat_minor": 4
}
